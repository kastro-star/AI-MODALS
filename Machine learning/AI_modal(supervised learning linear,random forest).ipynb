{
  "cells": [
    {
      "cell_type": "markdown",
      "metadata": {
        "id": "9IhgfwKGUq5h"
      },
      "source": [
        "**AI MODAL**"
      ]
    },
    {
      "cell_type": "markdown",
      "metadata": {
        "id": "_tL1iORHUWW5"
      },
      "source": [
        "**LOAD DATA**"
      ]
    },
    {
      "cell_type": "markdown",
      "metadata": {
        "id": "kOTuKe7Zs1EC"
      },
      "source": [
        "# load data"
      ]
    },
    {
      "cell_type": "code",
      "execution_count": null,
      "metadata": {},
      "outputs": [],
      "source": [
        "! python --version \n"
      ]
    },
    {
      "cell_type": "markdown",
      "metadata": {
        "id": "QfgpUY4tr_nJ"
      },
      "source": [
        "#"
      ]
    },
    {
      "cell_type": "code",
      "execution_count": null,
      "metadata": {
        "colab": {
          "base_uri": "https://localhost:8080/",
          "height": 424
        },
        "id": "YlzMMM5ETXHK",
        "outputId": "3bd41fd1-78d7-49a5-998d-dcaf055b5af5"
      },
      "outputs": [],
      "source": [
        "import pandas as pd\n",
        "\n",
        "df = pd.read_csv('https://raw.githubusercontent.com/dataprofessor/data/master/delaney_solubility_with_descriptors.csv')\n",
        "df"
      ]
    },
    {
      "cell_type": "code",
      "execution_count": null,
      "metadata": {},
      "outputs": [],
      "source": [
        "\n",
        "\n"
      ]
    },
    {
      "cell_type": "markdown",
      "metadata": {
        "id": "08db6sHmPOdy"
      },
      "source": [
        "# DATA preparation"
      ]
    },
    {
      "cell_type": "code",
      "execution_count": null,
      "metadata": {
        "colab": {
          "base_uri": "https://localhost:8080/",
          "height": 458
        },
        "id": "LuGjWvm8UpxC",
        "outputId": "ff8d6630-a999-46a1-f405-5c5a61052d96"
      },
      "outputs": [],
      "source": [
        "\n",
        "\n",
        "y = df['logS']\n",
        "y"
      ]
    },
    {
      "cell_type": "markdown",
      "metadata": {
        "id": "2qcunWEYtmkp"
      },
      "source": [
        "## data separation X and Y"
      ]
    },
    {
      "cell_type": "code",
      "execution_count": null,
      "metadata": {},
      "outputs": [],
      "source": []
    },
    {
      "cell_type": "code",
      "execution_count": null,
      "metadata": {
        "colab": {
          "base_uri": "https://localhost:8080/",
          "height": 424
        },
        "id": "ErQLuTYGWCQC",
        "outputId": "b9f05b9b-3913-4804-f798-95f3d56a996f"
      },
      "outputs": [],
      "source": [
        "y = df.drop('logS', axis=1)\n",
        "y"
      ]
    },
    {
      "cell_type": "code",
      "execution_count": null,
      "metadata": {
        "colab": {
          "base_uri": "https://localhost:8080/",
          "height": 424
        },
        "id": "wdtOKtX7uLlZ",
        "outputId": "01e08aaf-425f-4ad5-9c59-e7be5d4dd0c6"
      },
      "outputs": [],
      "source": [
        "from sklearn.model_selection import train_test_split\n",
        "\n",
        "x = df.drop('logS', axis=1)\n",
        "x_train, x_test, y_train, y_test = train_test_split(x, y, test_size=0.2, random_state=100)\n",
        "x_train"
      ]
    },
    {
      "cell_type": "markdown",
      "metadata": {
        "id": "N2XxQL_FuKvB"
      },
      "source": [
        "# Modal building"
      ]
    },
    {
      "cell_type": "markdown",
      "metadata": {
        "id": "2k6UI5OLuWZh"
      },
      "source": [
        "## linear reggresion"
      ]
    },
    {
      "cell_type": "markdown",
      "metadata": {
        "id": "-C5xaFJdwlr5"
      },
      "source": [
        "### train the modal** **bold text**"
      ]
    },
    {
      "cell_type": "code",
      "execution_count": null,
      "metadata": {
        "colab": {
          "base_uri": "https://localhost:8080/",
          "height": 80
        },
        "id": "oHWxDuNtucJh",
        "outputId": "ce9c2c71-25bc-4bdf-da38-4f8cbd097192"
      },
      "outputs": [],
      "source": [
        "from sklearn.linear_model import LinearRegression\n",
        "lr = LinearRegression()\n",
        "lr.fit(x_train, y_train)"
      ]
    },
    {
      "cell_type": "code",
      "execution_count": null,
      "metadata": {
        "colab": {
          "base_uri": "https://localhost:8080/",
          "height": 80
        },
        "id": "-t49zOZ-JB0J",
        "outputId": "2c368371-4e07-4690-bf4d-dabf4957ff00"
      },
      "outputs": [],
      "source": [
        "import pandas as pd\n",
        "from sklearn.model_selection import train_test_split\n",
        "from sklearn.linear_model import LinearRegression\n",
        "\n",
        "# Load the dataframe (replace 'your_file.csv' with the actual path)\n",
        "df = pd.read_csv('https://raw.githubusercontent.com/dataprofessor/data/master/delaney_solubility_with_descriptors.csv')\n",
        "\n",
        "# Separate features (X) and target (y)\n",
        "y = df['logS']\n",
        "X = df.drop('logS', axis=1)\n",
        "\n",
        "# Split the data into training and testing sets\n",
        "x_train, x_test, y_train, y_test = train_test_split(X, y, test_size=0.2, random_state=100)\n",
        "\n",
        "# Create and train the Linear Regression model\n",
        "lr = LinearRegression()\n",
        "lr.fit(x_train, y_train)  # Now x_train and y_train are defined in the same scope"
      ]
    },
    {
      "cell_type": "markdown",
      "metadata": {
        "id": "gzm6fMDMwcu5"
      },
      "source": [
        "### applying the modal to make prediction**"
      ]
    },
    {
      "cell_type": "code",
      "execution_count": 28,
      "metadata": {
        "id": "wj4iSm4fwbJf"
      },
      "outputs": [],
      "source": [
        "y_lr_train_pred = lr.predict(x_train)\n",
        "y_lr_test_pred = lr.predict(x_test)"
      ]
    },
    {
      "cell_type": "markdown",
      "metadata": {
        "id": "nx3wf-Ffyu9g"
      },
      "source": [
        "*weights are created"
      ]
    },
    {
      "cell_type": "code",
      "execution_count": null,
      "metadata": {
        "colab": {
          "base_uri": "https://localhost:8080/"
        },
        "id": "HHdcA_i8x73h",
        "outputId": "655ee5ef-5354-4cf7-b6b7-402cf360cdb8"
      },
      "outputs": [],
      "source": [
        "print(y_lr_train_pred,y_lr_test_pred)"
      ]
    },
    {
      "cell_type": "markdown",
      "metadata": {
        "id": "YEHj6r2Ly2pJ"
      },
      "source": [
        "###evaluate modal performance"
      ]
    },
    {
      "cell_type": "code",
      "execution_count": 30,
      "metadata": {
        "id": "HPBzrohXy1Ch"
      },
      "outputs": [],
      "source": [
        "from sklearn.metrics import mean_squared_error, r2_score\n",
        "lr_train_mse = mean_squared_error(y_train, y_lr_train_pred)\n",
        "lr_train_r2 = r2_score(y_train, y_lr_train_pred)\n",
        "\n",
        "lr_test_mse = mean_squared_error(y_test, y_lr_test_pred)\n",
        "lr_test_r2 = r2_score(y_test, y_lr_test_pred)"
      ]
    },
    {
      "cell_type": "markdown",
      "metadata": {
        "id": "tl8aflsIz-Oi"
      },
      "source": []
    },
    {
      "cell_type": "code",
      "execution_count": null,
      "metadata": {
        "colab": {
          "base_uri": "https://localhost:8080/"
        },
        "id": "6T9vMr8d0Y6h",
        "outputId": "fd6c5e69-ca65-4b38-c4f9-f2d7a1552b0a"
      },
      "outputs": [],
      "source": [
        "print('LR MSE (Train): ', lr_train_mse)\n",
        "print('LR R2 (Train): ', lr_train_r2)\n",
        "print('LR MSE (Test): ', lr_test_mse)\n",
        "print('LR R2 (Test): ', lr_test_r2)"
      ]
    },
    {
      "cell_type": "code",
      "execution_count": null,
      "metadata": {
        "colab": {
          "base_uri": "https://localhost:8080/",
          "height": 89
        },
        "id": "1EdkpAO-0rpQ",
        "outputId": "d17299c0-d1ae-4db8-d6da-e6d0a87744e9"
      },
      "outputs": [],
      "source": [
        "lr_results = pd.DataFrame(['LinearRegression', lr_train_mse, lr_train_r2, lr_test_mse, lr_test_r2]).transpose()\n",
        "lr_results.columns = ['Method', 'Training MSE', 'Training R2', 'Test MSE', 'Test R2']\n",
        "lr_results\n",
        "\n"
      ]
    },
    {
      "cell_type": "markdown",
      "metadata": {
        "id": "OgKmCqw83Lkw"
      },
      "source": [
        "##Random forest"
      ]
    },
    {
      "cell_type": "markdown",
      "metadata": {
        "id": "Zn8QN8-K3Ylx"
      },
      "source": [
        "###train the modal"
      ]
    },
    {
      "cell_type": "code",
      "execution_count": null,
      "metadata": {
        "colab": {
          "base_uri": "https://localhost:8080/",
          "height": 80
        },
        "id": "7n2ZMpia2LKY",
        "outputId": "8fa7858c-c76f-4209-cc75-07742b5161ca"
      },
      "outputs": [],
      "source": [
        "from sklearn.ensemble import RandomForestRegressor\n",
        "rf = RandomForestRegressor(max_depth=2, random_state=100)\n",
        "rf.fit(x_train, y_train)"
      ]
    },
    {
      "cell_type": "markdown",
      "metadata": {
        "id": "s7LfNxgJ3eNR"
      },
      "source": [
        "###applying the modal to make an prediction"
      ]
    },
    {
      "cell_type": "code",
      "execution_count": 34,
      "metadata": {
        "id": "nkRgPgtQJjhx"
      },
      "outputs": [],
      "source": [
        "y_rf_train_pred = rf.predict(x_train)\n",
        "y_rf_test_pred = rf.predict(x_test)"
      ]
    },
    {
      "cell_type": "markdown",
      "metadata": {
        "id": "77nQa2xJ3m5Q"
      },
      "source": [
        "###evaluate the modal performance"
      ]
    },
    {
      "cell_type": "code",
      "execution_count": 35,
      "metadata": {
        "id": "dkePaIZNJkNQ"
      },
      "outputs": [],
      "source": [
        "from sklearn.metrics import mean_squared_error, r2_score\n",
        "rf_train_mse = mean_squared_error(y_train, y_rf_train_pred)\n",
        "rf_train_r2 = r2_score(y_train, y_lr_train_pred)\n",
        "\n",
        "rf_test_mse = mean_squared_error(y_test, y_rf_test_pred)\n",
        "rf_test_r2 = r2_score(y_test, y_lr_test_pred)"
      ]
    },
    {
      "cell_type": "code",
      "execution_count": null,
      "metadata": {
        "colab": {
          "base_uri": "https://localhost:8080/",
          "height": 89
        },
        "id": "q_Q3fwJ6LTJQ",
        "outputId": "396669b0-9283-42d3-f7fb-d7e5247389ea"
      },
      "outputs": [],
      "source": [
        "rf_results = pd.DataFrame(['RandomForest', rf_train_mse, rf_train_r2, rf_test_mse, rf_test_r2]).transpose()\n",
        "rf_results.columns = ['Method', 'Training MSE', 'Training R2', 'Test MSE', 'Test R2']\n",
        "rf_results"
      ]
    },
    {
      "cell_type": "markdown",
      "metadata": {
        "id": "YZyeg7PIQ9og"
      },
      "source": [
        "##Modal comparision"
      ]
    },
    {
      "cell_type": "code",
      "execution_count": null,
      "metadata": {
        "colab": {
          "base_uri": "https://localhost:8080/",
          "height": 125
        },
        "id": "niwapgspRCGw",
        "outputId": "524c9df5-1d99-444d-fd56-965349171951"
      },
      "outputs": [],
      "source": [
        "df_models = pd.concat([lr_results, rf_results],axis=0)\n",
        "df_models"
      ]
    },
    {
      "cell_type": "code",
      "execution_count": null,
      "metadata": {
        "colab": {
          "base_uri": "https://localhost:8080/",
          "height": 112
        },
        "id": "1v5fUc3fSanx",
        "outputId": "0f3fb792-5f6e-46b3-895e-9269d869bf52"
      },
      "outputs": [],
      "source": [
        "df_models.reset_index(drop=True)"
      ]
    },
    {
      "cell_type": "markdown",
      "metadata": {
        "id": "aaW-n0dYTcmZ"
      },
      "source": [
        "#data visulaization of prediction results"
      ]
    },
    {
      "cell_type": "code",
      "execution_count": null,
      "metadata": {
        "colab": {
          "base_uri": "https://localhost:8080/",
          "height": 447
        },
        "id": "Gr4iIZtJT97o",
        "outputId": "f1f3ce98-b97e-49dc-c0d9-1533071dc999"
      },
      "outputs": [],
      "source": [
        "import matplotlib.pyplot as plt\n",
        "\n",
        "plt.scatter(x=y_train, y=y_lr_train_pred, c=\"#7d1108\", alpha=0.3)\n",
        "\n",
        "plt.plot()\n",
        "plt.xlabel('Experimental LogS')\n",
        "plt.ylabel('Predicted LogS')\n",
        "plt.title('thalaivar Entry')\n",
        "plt.show()\n"
      ]
    }
  ],
  "metadata": {
    "colab": {
      "collapsed_sections": [
        "kOTuKe7Zs1EC",
        "08db6sHmPOdy",
        "OgKmCqw83Lkw",
        "YZyeg7PIQ9og"
      ],
      "provenance": [],
      "toc_visible": true
    },
    "kernelspec": {
      "display_name": "base",
      "language": "python",
      "name": "python3"
    },
    "language_info": {
      "codemirror_mode": {
        "name": "ipython",
        "version": 3
      },
      "file_extension": ".py",
      "mimetype": "text/x-python",
      "name": "python",
      "nbconvert_exporter": "python",
      "pygments_lexer": "ipython3",
      "version": "3.12.7"
    }
  },
  "nbformat": 4,
  "nbformat_minor": 0
}
